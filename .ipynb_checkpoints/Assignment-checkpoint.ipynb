{
 "cells": [
  {
   "cell_type": "markdown",
   "id": "9bf48c7f",
   "metadata": {},
   "source": [
    "# LANGUAGE MODELLING"
   ]
  },
  {
   "cell_type": "code",
   "execution_count": 2,
   "id": "17f5a5bd",
   "metadata": {},
   "outputs": [],
   "source": [
    "import nltk\n",
    "import math\n",
    "# nltk.download(\"all\")\n",
    "from nltk.tokenize import word_tokenize\n"
   ]
  },
  {
   "cell_type": "code",
   "execution_count": 1,
   "id": "15b9549f",
   "metadata": {},
   "outputs": [],
   "source": [
    "sf=open(r\"E:\\Semester 6\\NLP Programs\\Assignment 2\\singlefilefinal.txt\", \"r\", encoding=\"utf-8\")\n"
   ]
  },
  {
   "cell_type": "code",
   "execution_count": 3,
   "id": "52d6aad7",
   "metadata": {},
   "outputs": [],
   "source": [
    "dict_final={}"
   ]
  },
  {
   "cell_type": "code",
   "execution_count": 4,
   "id": "a00e77a5",
   "metadata": {},
   "outputs": [
    {
     "name": "stdout",
     "output_type": "stream",
     "text": [
      "1359959\n"
     ]
    }
   ],
   "source": [
    "data=sf.read()\n",
    "w_data=data.split()\n",
    "total_words= len(w_data)\n",
    "print(total_words)"
   ]
  },
  {
   "cell_type": "code",
   "execution_count": 5,
   "id": "83721f02",
   "metadata": {},
   "outputs": [],
   "source": [
    "data=word_tokenize(data)"
   ]
  },
  {
   "cell_type": "code",
   "execution_count": 6,
   "id": "8defbfb4",
   "metadata": {},
   "outputs": [],
   "source": [
    "lis=list()\n",
    "lis.append(\"<s>\")\n",
    "for i in range(len(data)):\n",
    "    if data[i]==\".\":\n",
    "        lis.append(\"</s>\")\n",
    "        data.append(data[i])\n",
    "        lis.append(\"<s>\")\n",
    "    else:\n",
    "        lis.append(data[i])\n",
    "lis.append(\"</s>\")\n",
    "data=lis"
   ]
  },
  {
   "cell_type": "code",
   "execution_count": 7,
   "id": "dbaf6fd3",
   "metadata": {},
   "outputs": [],
   "source": [
    "for words in data:\n",
    "    if(words in dict_final):\n",
    "        dict_final[words]+=1\n",
    "    else:\n",
    "        dict_final[words]=1\n"
   ]
  },
  {
   "cell_type": "code",
   "execution_count": 8,
   "id": "8339f6b1",
   "metadata": {},
   "outputs": [],
   "source": [
    "# Creating a function to generate N-Grams\n",
    "def generate_ngrams(data, n):\n",
    "    output = []  \n",
    "    for i in range(len(data)- n+1):\n",
    "         output.append(data[i:i+n])\n",
    "    count=len(output)\n",
    "    print(f\"Number of {n}-grams are: {count}\")\n",
    "    return output\n",
    "\n"
   ]
  },
  {
   "cell_type": "code",
   "execution_count": 9,
   "id": "2c0222c3",
   "metadata": {},
   "outputs": [
    {
     "name": "stdout",
     "output_type": "stream",
     "text": [
      "Number of 2-grams are: 1723227\n"
     ]
    }
   ],
   "source": [
    "n=int(0)\n",
    "bigrams=generate_ngrams(data, 2)"
   ]
  },
  {
   "cell_type": "code",
   "execution_count": 10,
   "id": "4ff541bd",
   "metadata": {},
   "outputs": [],
   "source": [
    "def ngrams(data, n):\n",
    "    output = []  \n",
    "    for i in range(len(data)- n+1):\n",
    "         output.append(data[i:i+n])\n",
    "    count=len(output)\n",
    "    return count"
   ]
  },
  {
   "cell_type": "code",
   "execution_count": 11,
   "id": "cc5d6504",
   "metadata": {},
   "outputs": [],
   "source": [
    "def Sentence_Prob(text):\n",
    "    text=word_tokenize(text)\n",
    "    lis=list()\n",
    "    lis.append(\"<s>\")\n",
    "    for i in range(len(text)):\n",
    "        if text[i]==\".\":\n",
    "            lis.append(\"</s>\")\n",
    "            text.append(data[i])\n",
    "            lis.append(\"<s>\")\n",
    "        else:\n",
    "            lis.append(text[i])\n",
    "    lis.append(\"</s>\")\n",
    "    text=lis\n",
    "    d=generate_ngrams(text,2)\n",
    "    count=int(0)\n",
    "    c=int(0)\n",
    "    lis=list()\n",
    "    for i in d:\n",
    "        count=0\n",
    "        for j in bigrams:\n",
    "            if i==j:\n",
    "                count=count+1      \n",
    "        print(f\"Count of {i} is {count}\")\n",
    "        for m in i:\n",
    "            if i[0] in dict_final.keys():\n",
    "                c=count/dict_final[i[0]]\n",
    "        print(c)\n",
    "        lis.append(c)\n",
    "        result=float(1)\n",
    "        for l in lis:\n",
    "            result = result * l\n",
    "    print(f\"Probability of given test data is {result} \") \n",
    "    return result"
   ]
  },
  {
   "cell_type": "code",
   "execution_count": 12,
   "id": "9567f22f",
   "metadata": {},
   "outputs": [],
   "source": [
    "def Sentence_Smooth(text):\n",
    "    V=len(dict_final.keys())\n",
    "    text=word_tokenize(text)\n",
    "    lis=list()\n",
    "    lis.append(\"<s>\")\n",
    "    for i in range(len(text)):\n",
    "        if text[i]==\".\":\n",
    "            lis.append(\"</s>\")\n",
    "            text.append(data[i])\n",
    "            lis.append(\"<s>\")\n",
    "        else:\n",
    "            lis.append(text[i])\n",
    "    lis.append(\"</s>\")\n",
    "    text=lis\n",
    "    d=generate_ngrams(text,2)\n",
    "    count=int(0)\n",
    "    c=int(0)\n",
    "    lis=list()\n",
    "    for i in d:\n",
    "        count=0\n",
    "        for j in bigrams:\n",
    "            if i==j:\n",
    "                count=count+1\n",
    "        count1=count+1\n",
    "        print(f\"Count of {i} is {count1}\")\n",
    "        for m in i:\n",
    "            if i[0] in dict_final.keys():\n",
    "                p=dict_final[i[0]]+V\n",
    "                c=count1/p\n",
    "        print(c)\n",
    "        lis.append(c)\n",
    "        result=float(1)\n",
    "        for l in lis:\n",
    "            result = result * l\n",
    "    print(f\"Probability of given test data is {result} \") \n",
    "    return result\n",
    "    \n",
    "    \n",
    "    "
   ]
  },
  {
   "cell_type": "code",
   "execution_count": 13,
   "id": "fdb89bde",
   "metadata": {},
   "outputs": [],
   "source": [
    "def perplexity(prob,n):\n",
    "    print(math.pow(1/prob, 1/n))"
   ]
  },
  {
   "cell_type": "code",
   "execution_count": 14,
   "id": "86cc38fd",
   "metadata": {},
   "outputs": [
    {
     "name": "stdout",
     "output_type": "stream",
     "text": [
      "BI-GRAM PROBABILITIES\n",
      "Number of 2-grams are: 6\n",
      "Count of ['<s>', 'Basketball'] is 3\n",
      "4.106832400169749e-05\n",
      "Count of ['Basketball', 'is'] is 4\n",
      "0.4444444444444444\n",
      "Count of ['is', 'best'] is 10\n",
      "0.0007377895824110963\n",
      "Count of ['best', '</s>'] is 11\n",
      "0.026570048309178744\n",
      "Count of ['</s>', '<s>'] is 73048\n",
      "0.999986310558666\n",
      "Count of ['<s>', '</s>'] is 25\n",
      "0.00034223603334747907\n",
      "Probability of given test data is 1.2245291065959194e-13 \n",
      "PERPLEXITY\n",
      "5.2159695729491915\n",
      "\n",
      "\n",
      "LAPLACE SMOOTHING\n",
      "Number of 2-grams are: 6\n",
      "Count of ['<s>', 'Basketball'] is 4\n",
      "3.383264681254176e-05\n",
      "Count of ['Basketball', 'is'] is 5\n",
      "0.00011064639624687424\n",
      "Count of ['is', 'best'] is 11\n",
      "0.00018728504784281676\n",
      "Count of ['best', '</s>'] is 12\n",
      "0.0002631925253322806\n",
      "Count of ['</s>', '<s>'] is 73049\n",
      "0.6178602542523408\n",
      "Count of ['<s>', '</s>'] is 26\n",
      "0.00021991220428152145\n",
      "Probability of given test data is 2.5072029868352107e-20 \n"
     ]
    },
    {
     "data": {
      "text/plain": [
       "2.5072029868352107e-20"
      ]
     },
     "execution_count": 14,
     "metadata": {},
     "output_type": "execute_result"
    }
   ],
   "source": [
    "text=\"Basketball is best.\"\n",
    "count=ngrams(text, 2)\n",
    "print(\"BI-GRAM PROBABILITIES\")\n",
    "a=Sentence_Prob(text)\n",
    "print(\"PERPLEXITY\")\n",
    "perplexity(a,count)\n",
    "print(\"\\n\")\n",
    "print(\"LAPLACE SMOOTHING\")\n",
    "Sentence_Smooth(text)"
   ]
  },
  {
   "cell_type": "code",
   "execution_count": null,
   "id": "c568a095",
   "metadata": {},
   "outputs": [],
   "source": []
  }
 ],
 "metadata": {
  "kernelspec": {
   "display_name": "Python 3 (ipykernel)",
   "language": "python",
   "name": "python3"
  },
  "language_info": {
   "codemirror_mode": {
    "name": "ipython",
    "version": 3
   },
   "file_extension": ".py",
   "mimetype": "text/x-python",
   "name": "python",
   "nbconvert_exporter": "python",
   "pygments_lexer": "ipython3",
   "version": "3.9.6"
  }
 },
 "nbformat": 4,
 "nbformat_minor": 5
}
