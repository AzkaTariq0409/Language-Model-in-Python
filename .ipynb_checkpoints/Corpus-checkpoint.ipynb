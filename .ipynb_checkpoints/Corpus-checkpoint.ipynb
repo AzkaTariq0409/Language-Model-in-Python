{
 "cells": [
  {
   "cell_type": "markdown",
   "id": "b249ed67",
   "metadata": {},
   "source": [
    "#  CORPUS"
   ]
  },
  {
   "cell_type": "code",
   "execution_count": 1,
   "id": "b15ee531",
   "metadata": {},
   "outputs": [],
   "source": [
    "# LIBRARIES\n",
    "import os                           # for change directory\n",
    "import requests                     # for html request\n",
    "from bs4 import BeautifulSoup       # for getting text\n",
    "from URLS import*                   # for getting URLS\n",
    "# from URLS import URL_Weather"
   ]
  },
  {
   "cell_type": "code",
   "execution_count": 2,
   "id": "2c91aebe",
   "metadata": {},
   "outputs": [],
   "source": [
    "sf1=open(r\"E:\\Semester 6\\NLP Programs\\Assignment 2\\singlefile.txt\", \"w\", encoding=\"utf-8\")\n",
    "sf=open(r\"E:\\Semester 6\\NLP Programs\\Assignment 2\\singlefilefinal.txt\", \"w\", encoding=\"utf-8\")"
   ]
  },
  {
   "cell_type": "code",
   "execution_count": 3,
   "id": "125ea87e",
   "metadata": {},
   "outputs": [],
   "source": [
    "# PATH FOR SAVING TEXT FILES IN SEPARATE DIRECTORIES\n",
    "path_sports = r\"E:\\Semester 6\\NLP Programs\\Assignment 2\\Sports\"\n",
    "path_curraffairs=r\"E:\\Semester 6\\NLP Programs\\Assignment 2\\Current Affairs\"\n",
    "path_culture=r\"E:\\Semester 6\\NLP Programs\\Assignment 2\\Culture\"\n",
    "path_health=r\"E:\\Semester 6\\NLP Programs\\Assignment 2\\Health\"\n",
    "path_profession=r\"E:\\Semester 6\\NLP Programs\\Assignment 2\\Profession\"\n",
    "path_politics=r\"E:\\Semester 6\\NLP Programs\\Assignment 2\\Politics\"\n",
    "path_technology=r\"E:\\Semester 6\\NLP Programs\\Assignment 2\\Technology\"\n",
    "path_showbiz=r\"E:\\Semester 6\\NLP Programs\\Assignment 2\\Showbiz\"\n",
    "path_weather=r\"E:\\Semester 6\\NLP Programs\\Assignment 2\\Weather\"\n",
    "path_countries=r\"E:\\Semester 6\\NLP Programs\\Assignment 2\\Countries\""
   ]
  },
  {
   "cell_type": "code",
   "execution_count": 4,
   "id": "aec8a2c6",
   "metadata": {},
   "outputs": [],
   "source": [
    "path_corpus=r\"E:\\Semester 6\\NLP Programs\\Assignment 2\""
   ]
  },
  {
   "cell_type": "code",
   "execution_count": 5,
   "id": "0cc232e7",
   "metadata": {},
   "outputs": [],
   "source": [
    "# FOR READING MULTIPLE FILES\n",
    "def read_files(file_path):\n",
    "   with open(file_path, 'r',encoding=\"utf-8\") as file:\n",
    "      a=file.read()\n",
    "      sf1.write(str(a))"
   ]
  },
  {
   "cell_type": "code",
   "execution_count": 6,
   "id": "e133c2e3",
   "metadata": {},
   "outputs": [],
   "source": [
    "# SOUP FUNCTION \n",
    "def soup(list):\n",
    "    counter=1\n",
    "    for i in list:\n",
    "        for j in i:\n",
    "            page = requests.get(j)\n",
    "            soup = BeautifulSoup(page.text, 'html.parser')\n",
    "            f = open(\"File %s.txt\" % counter, \"w\", encoding=\"utf-8\")\n",
    "            for data in soup.find_all(\"p\"):\n",
    "                paragraphs = data.get_text()\n",
    "                f.write(str(paragraphs))\n",
    "            counter=counter+1"
   ]
  },
  {
   "cell_type": "code",
   "execution_count": 7,
   "id": "c0bdf781",
   "metadata": {},
   "outputs": [],
   "source": [
    "def soup1(list):\n",
    "    counter=1\n",
    "    for j in list:\n",
    "        page = requests.get(j)\n",
    "        soup = BeautifulSoup(page.text, 'html.parser')\n",
    "        f = open(\"File %s.txt\" % counter, \"w\", encoding=\"utf-8\")\n",
    "        for data in soup.find_all(\"p\"):\n",
    "            paragraphs = data.get_text()\n",
    "            f.write(str(paragraphs))\n",
    "        counter=counter+1\n"
   ]
  },
  {
   "cell_type": "code",
   "execution_count": 8,
   "id": "350e6af1",
   "metadata": {},
   "outputs": [],
   "source": [
    "os.chdir(path_sports)\n",
    "# soup(URL_Sports)\n",
    "# Iterate over all the files in the directory\n",
    "for i in os.listdir():\n",
    "   if i.endswith(\".txt\"):\n",
    "      # Create the filepath of particular file\n",
    "      file_path =f\"{path_sports}\\{i}\"\n",
    "      read_files(file_path)\n",
    "sf.close()"
   ]
  },
  {
   "cell_type": "code",
   "execution_count": 9,
   "id": "dadb6f69",
   "metadata": {},
   "outputs": [],
   "source": [
    "os.chdir(path_curraffairs)\n",
    "soup(URL_CurrentAffairs)\n",
    "for i in os.listdir():\n",
    "   if i.endswith(\".txt\"):\n",
    "      # Create the filepath of particular file\n",
    "      file_path =f\"{path_curraffairs}\\{i}\"\n",
    "      read_files(file_path)\n",
    "sf.close()\n"
   ]
  },
  {
   "cell_type": "code",
   "execution_count": 10,
   "id": "477b378b",
   "metadata": {},
   "outputs": [],
   "source": [
    "os.chdir(path_culture)\n",
    "soup(URL_CultReligion)\n",
    "for i in os.listdir():\n",
    "   if i.endswith(\".txt\"):\n",
    "      # Create the filepath of particular file\n",
    "      file_path =f\"{path_culture}\\{i}\"\n",
    "      read_files(file_path)\n",
    "sf.close()\n"
   ]
  },
  {
   "cell_type": "code",
   "execution_count": 11,
   "id": "2975d30e",
   "metadata": {},
   "outputs": [],
   "source": [
    "os.chdir(path_health)\n",
    "soup1(URL_Health)\n",
    "for i in os.listdir():\n",
    "   if i.endswith(\".txt\"):\n",
    "      # Create the filepath of particular file\n",
    "      file_path =f\"{path_health}\\{i}\"\n",
    "      read_files(file_path)\n",
    "sf.close()"
   ]
  },
  {
   "cell_type": "code",
   "execution_count": 12,
   "id": "9bec421c",
   "metadata": {},
   "outputs": [],
   "source": [
    "os.chdir(path_profession)\n",
    "soup1(URL_Profession)\n",
    "for i in os.listdir():\n",
    "   if i.endswith(\".txt\"):\n",
    "      # Create the filepath of particular file\n",
    "      file_path =f\"{path_health}\\{i}\"\n",
    "      read_files(file_path)\n",
    "sf.close()"
   ]
  },
  {
   "cell_type": "code",
   "execution_count": 13,
   "id": "da821a3a",
   "metadata": {},
   "outputs": [],
   "source": [
    "os.chdir(path_politics)\n",
    "soup1(URL__Politics)\n",
    "for i in os.listdir():\n",
    "   if i.endswith(\".txt\"):\n",
    "      # Create the filepath of particular file\n",
    "      file_path =f\"{path_politics}\\{i}\"\n",
    "      read_files(file_path)\n",
    "sf.close()"
   ]
  },
  {
   "cell_type": "code",
   "execution_count": 14,
   "id": "04134580",
   "metadata": {},
   "outputs": [],
   "source": [
    "os.chdir(path_technology)\n",
    "soup1(URL_Technology)\n",
    "for i in os.listdir():\n",
    "   if i.endswith(\".txt\"):\n",
    "      # Create the filepath of particular file\n",
    "      file_path =f\"{path_politics}\\{i}\"\n",
    "      read_files(file_path)\n",
    "sf.close()"
   ]
  },
  {
   "cell_type": "code",
   "execution_count": 15,
   "id": "418d757a",
   "metadata": {},
   "outputs": [],
   "source": [
    "os.chdir(path_showbiz)\n",
    "soup1(URL_Showbiz)\n",
    "for i in os.listdir():\n",
    "   if i.endswith(\".txt\"):\n",
    "      # Create the filepath of particular file\n",
    "      file_path =f\"{path_showbiz}\\{i}\"\n",
    "      read_files(file_path)\n",
    "sf.close()"
   ]
  },
  {
   "cell_type": "code",
   "execution_count": 16,
   "id": "7305c9c1",
   "metadata": {},
   "outputs": [],
   "source": [
    "os.chdir(path_weather)\n",
    "soup1(URL_Weather)\n",
    "for i in os.listdir():\n",
    "   if i.endswith(\".txt\"):\n",
    "      # Create the filepath of particular file\n",
    "      file_path =f\"{path_weather}\\{i}\"\n",
    "      read_files(file_path)\n",
    "sf.close()"
   ]
  },
  {
   "cell_type": "code",
   "execution_count": 17,
   "id": "a0d9edb5",
   "metadata": {},
   "outputs": [],
   "source": [
    "os.chdir(path_countries)\n",
    "soup1(URL_Country)\n",
    "for i in os.listdir():\n",
    "   if i.endswith(\".txt\"):\n",
    "      # Create the filepath of particular file\n",
    "      file_path =f\"{path_countries}\\{i}\"\n",
    "      read_files(file_path)\n",
    "sf.close()"
   ]
  },
  {
   "cell_type": "code",
   "execution_count": 18,
   "id": "7626e8cd",
   "metadata": {},
   "outputs": [],
   "source": [
    "sf1.close()\n",
    "os.chdir(path_corpus)\n",
    "a=str()\n",
    "sf1=open(r\"singlefilesports.txt\", \"r\", encoding=\"utf-8\")\n",
    "sf=open(r\"singlefilefinal.txt\", \"w\", encoding=\"utf-8\")\n",
    "temp=open(\"temp.txt\",\"w\",encoding=\"utf-8\")\n",
    "for line in sf1:\n",
    "    a= \" \".join(line.split())\n",
    "    temp.write(a+\" \")\n",
    "temp.close()\n",
    "temp=open(\"temp.txt\",\"r\",encoding=\"utf-8\")\n",
    "for line in temp:\n",
    "    a= \" \".join(line.split())\n",
    "    sf.write(a)\n",
    "sf.close()"
   ]
  },
  {
   "cell_type": "code",
   "execution_count": null,
   "id": "69c461a5",
   "metadata": {},
   "outputs": [],
   "source": []
  }
 ],
 "metadata": {
  "kernelspec": {
   "display_name": "Python 3 (ipykernel)",
   "language": "python",
   "name": "python3"
  },
  "language_info": {
   "codemirror_mode": {
    "name": "ipython",
    "version": 3
   },
   "file_extension": ".py",
   "mimetype": "text/x-python",
   "name": "python",
   "nbconvert_exporter": "python",
   "pygments_lexer": "ipython3",
   "version": "3.9.6"
  }
 },
 "nbformat": 4,
 "nbformat_minor": 5
}
