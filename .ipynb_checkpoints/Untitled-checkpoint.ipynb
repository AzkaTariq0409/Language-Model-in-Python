{
 "cells": [
  {
   "cell_type": "code",
   "execution_count": 2,
   "id": "776a93ba",
   "metadata": {},
   "outputs": [],
   "source": [
    "import nltk\n",
    "# nltk.download(\"all\")\n",
    "from nltk.tokenize import word_tokenize"
   ]
  },
  {
   "cell_type": "code",
   "execution_count": 4,
   "id": "80021135",
   "metadata": {},
   "outputs": [],
   "source": [
    "text=\"<s> I am a girl. I want to be an army officer </s>\""
   ]
  },
  {
   "cell_type": "code",
   "execution_count": null,
   "id": "7bd1c259",
   "metadata": {},
   "outputs": [],
   "source": [
    "text=word_tokenize(text)"
   ]
  }
 ],
 "metadata": {
  "kernelspec": {
   "display_name": "Python 3 (ipykernel)",
   "language": "python",
   "name": "python3"
  },
  "language_info": {
   "codemirror_mode": {
    "name": "ipython",
    "version": 3
   },
   "file_extension": ".py",
   "mimetype": "text/x-python",
   "name": "python",
   "nbconvert_exporter": "python",
   "pygments_lexer": "ipython3",
   "version": "3.9.6"
  }
 },
 "nbformat": 4,
 "nbformat_minor": 5
}
